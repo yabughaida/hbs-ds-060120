{
  "nbformat": 4,
  "nbformat_minor": 0,
  "metadata": {
    "kernelspec": {
      "display_name": "Python 3",
      "language": "python",
      "name": "python3"
    },
    "language_info": {
      "codemirror_mode": {
        "name": "ipython",
        "version": 3
      },
      "file_extension": ".py",
      "mimetype": "text/x-python",
      "name": "python",
      "nbconvert_exporter": "python",
      "pygments_lexer": "ipython3",
      "version": "3.7.4"
    },
    "colab": {
      "name": "python-fundamentals-enkeboll.ipynb",
      "provenance": []
    }
  },
  "cells": [
    {
      "cell_type": "markdown",
      "metadata": {
        "id": "Y2R3antv8_va",
        "colab_type": "text"
      },
      "source": [
        "![python logo](https://www.python.org/static/community_logos/python-logo-master-v3-TM.png)\n",
        "\n",
        "\n",
        "\n",
        "# Python has a lot of great [documentation](https://www.python.org/about/gettingstarted/)\n",
        "\n",
        "\n",
        "Today as a first step we want you to be able to:\n",
        "- Make use of assigning variables\n",
        "- Classify and explain integers, float, strings, boolean, list, dictionary, and tuple\n",
        "- Identify the comparators and boolean operators\n",
        "- Make use of a `list`: indexing, ranges, appending\n",
        "- Make use of a `dict`: identifying, creating, navigating\n",
        "- Apply a for loop to lists and dictionaries\n",
        "\n",
        "\n",
        "### To do all that, we are going to code up versions of a bento box:\n",
        "\n",
        "<img src=\"https://images.pexels.com/photos/884596/pexels-photo-884596.jpeg?auto=compress&cs=tinysrgb&dpr=2&h=750&w=1260\" width=550 />\n",
        "\n",
        "\n",
        "### Bento boxes can have multiple ingredients and choices\n",
        "\n",
        "We want to write a script that can combine everyone's bento order into one data collection and print each item for the restaurant. \n",
        "\n",
        "#### Variable assignment \n",
        "\n",
        "Let's start with our first bento oder:\n",
        "\n",
        "```python\n",
        "main = \"rice\"\n",
        "protein = \"salmon\"\n",
        "ozofprotein = 4.5\n",
        "number_of_sides = 3\n",
        "side1 = 'seaweed'\n",
        "side2 = 'tempura'\n",
        "side2 =  'turnip pickle'\n",
        "greatbento = True\n",
        "```"
      ]
    },
    {
      "cell_type": "code",
      "metadata": {
        "id": "lZUL-ru28_vb",
        "colab_type": "code",
        "colab": {}
      },
      "source": [
        "main = \"rice\"\n",
        "protein = \"salmon\"\n",
        "ozofprotein = 4.5\n",
        "number_of_sides = 3\n",
        "side1 = 'seaweed'\n",
        "side2 = 'tempura'\n",
        "side2 =  'turnip pickle'\n",
        "greatbento = True"
      ],
      "execution_count": 0,
      "outputs": []
    },
    {
      "cell_type": "code",
      "metadata": {
        "id": "QVJveNQ2-SLJ",
        "colab_type": "code",
        "colab": {
          "base_uri": "https://localhost:8080/",
          "height": 35
        },
        "outputId": "9ce119db-33c8-4da0-e872-45f2624f9074"
      },
      "source": [
        "type(greatbento)"
      ],
      "execution_count": 12,
      "outputs": [
        {
          "output_type": "execute_result",
          "data": {
            "text/plain": [
              "bool"
            ]
          },
          "metadata": {
            "tags": []
          },
          "execution_count": 12
        }
      ]
    },
    {
      "cell_type": "code",
      "metadata": {
        "id": "opZQ-dxd_e5A",
        "colab_type": "code",
        "colab": {
          "base_uri": "https://localhost:8080/",
          "height": 35
        },
        "outputId": "840638b8-5995-463f-a92b-a372f164e30a"
      },
      "source": [
        "type(True)"
      ],
      "execution_count": 14,
      "outputs": [
        {
          "output_type": "execute_result",
          "data": {
            "text/plain": [
              "bool"
            ]
          },
          "metadata": {
            "tags": []
          },
          "execution_count": 14
        }
      ]
    },
    {
      "cell_type": "markdown",
      "metadata": {
        "id": "OCrvSn2C8_vd",
        "colab_type": "text"
      },
      "source": [
        "Now, if we wanted to change our protein to ginger chicken, how would we do that?"
      ]
    },
    {
      "cell_type": "code",
      "metadata": {
        "id": "0dlsxF8o8_ve",
        "colab_type": "code",
        "colab": {}
      },
      "source": [
        "protein = 'ginger chicken'"
      ],
      "execution_count": 0,
      "outputs": []
    },
    {
      "cell_type": "code",
      "metadata": {
        "id": "gEmsHIUx_vqY",
        "colab_type": "code",
        "colab": {
          "base_uri": "https://localhost:8080/",
          "height": 35
        },
        "outputId": "2bd93100-563a-4522-db39-210acff49651"
      },
      "source": [
        "protein"
      ],
      "execution_count": 17,
      "outputs": [
        {
          "output_type": "execute_result",
          "data": {
            "text/plain": [
              "'ginger chicken'"
            ]
          },
          "metadata": {
            "tags": []
          },
          "execution_count": 17
        }
      ]
    },
    {
      "cell_type": "markdown",
      "metadata": {
        "id": "Clny8C7w8_vg",
        "colab_type": "text"
      },
      "source": [
        "We can reassign variable values easily.\n",
        "\n",
        "Now, we assigned those variables one at a time. We also can assign multiple values at once:\n",
        "\n",
        "`side1, side2, side3 = \"carrots\", \"kimchi\", \"mushrooms\"`\n",
        "\n",
        "Update your side order to match your preference. \n",
        "\n",
        "Then use `print()` to confirm the variable change"
      ]
    },
    {
      "cell_type": "code",
      "metadata": {
        "id": "yiUsC7ls_0Wh",
        "colab_type": "code",
        "colab": {}
      },
      "source": [
        "side1, side2, side3 = \"carrots\", \"kimchi\", \"mushrooms\""
      ],
      "execution_count": 0,
      "outputs": []
    },
    {
      "cell_type": "code",
      "metadata": {
        "id": "4aMmA7Aq_3Fx",
        "colab_type": "code",
        "colab": {
          "base_uri": "https://localhost:8080/",
          "height": 35
        },
        "outputId": "55922934-0253-46e2-c332-17217175fd5a"
      },
      "source": [
        "side2"
      ],
      "execution_count": 19,
      "outputs": [
        {
          "output_type": "execute_result",
          "data": {
            "text/plain": [
              "'kimchi'"
            ]
          },
          "metadata": {
            "tags": []
          },
          "execution_count": 19
        }
      ]
    },
    {
      "cell_type": "markdown",
      "metadata": {
        "id": "-mntrl338_vg",
        "colab_type": "text"
      },
      "source": [
        "#### Variable Types\n",
        "\n",
        "Each variable in our bento box has a `type`. \n",
        "\n",
        "```\n",
        "type(side1)\n",
        "str\n",
        "```\n",
        "Run `type()` on the remaining variables to explore the type options."
      ]
    },
    {
      "cell_type": "code",
      "metadata": {
        "id": "dcq05_VP8_vh",
        "colab_type": "code",
        "colab": {
          "base_uri": "https://localhost:8080/",
          "height": 35
        },
        "outputId": "38b8bb69-b047-4e0f-f034-a7cf2108c548"
      },
      "source": [
        "type(number_of_sides)"
      ],
      "execution_count": 25,
      "outputs": [
        {
          "output_type": "execute_result",
          "data": {
            "text/plain": [
              "int"
            ]
          },
          "metadata": {
            "tags": []
          },
          "execution_count": 25
        }
      ]
    },
    {
      "cell_type": "code",
      "metadata": {
        "id": "sAz5W2IoBCsI",
        "colab_type": "code",
        "colab": {
          "base_uri": "https://localhost:8080/",
          "height": 35
        },
        "outputId": "e34aee6f-34f5-4910-986c-a0b254b71d9c"
      },
      "source": [
        "float(str(5))"
      ],
      "execution_count": 28,
      "outputs": [
        {
          "output_type": "execute_result",
          "data": {
            "text/plain": [
              "5.0"
            ]
          },
          "metadata": {
            "tags": []
          },
          "execution_count": 28
        }
      ]
    },
    {
      "cell_type": "code",
      "metadata": {
        "id": "GRg2nwxeBo7v",
        "colab_type": "code",
        "colab": {
          "base_uri": "https://localhost:8080/",
          "height": 35
        },
        "outputId": "df8e6ddb-4c0c-467c-a2e0-b5870d735c09"
      },
      "source": [
        "1 + 2"
      ],
      "execution_count": 29,
      "outputs": [
        {
          "output_type": "execute_result",
          "data": {
            "text/plain": [
              "3"
            ]
          },
          "metadata": {
            "tags": []
          },
          "execution_count": 29
        }
      ]
    },
    {
      "cell_type": "code",
      "metadata": {
        "id": "J227b2aVBs6v",
        "colab_type": "code",
        "colab": {
          "base_uri": "https://localhost:8080/",
          "height": 35
        },
        "outputId": "c026a7ac-d251-475d-856b-e1d548b7b51b"
      },
      "source": [
        "'a' + 'b'"
      ],
      "execution_count": 30,
      "outputs": [
        {
          "output_type": "execute_result",
          "data": {
            "text/plain": [
              "'ab'"
            ]
          },
          "metadata": {
            "tags": []
          },
          "execution_count": 30
        }
      ]
    },
    {
      "cell_type": "code",
      "metadata": {
        "id": "YzmOqGJNCMzp",
        "colab_type": "code",
        "colab": {
          "base_uri": "https://localhost:8080/",
          "height": 35
        },
        "outputId": "faacb939-ab8f-4879-a90e-64d0b4583e0e"
      },
      "source": [
        "True != False"
      ],
      "execution_count": 33,
      "outputs": [
        {
          "output_type": "execute_result",
          "data": {
            "text/plain": [
              "True"
            ]
          },
          "metadata": {
            "tags": []
          },
          "execution_count": 33
        }
      ]
    },
    {
      "cell_type": "markdown",
      "metadata": {
        "id": "XTkNLILY8_vj",
        "colab_type": "text"
      },
      "source": [
        "#### Conditionals\n",
        "\n",
        "Now what if you have food allergies, or want to be able to evaluate a variable before changing it?\n",
        "\n",
        "Well you're in luck, cause we have if statements and conditionals and control flow operators.\n",
        "\n",
        "\n",
        "\n",
        "Control flow operators are:\n",
        "```\n",
        "==\n",
        "!=\n",
        ">\n",
        "<\n",
        "<=\n",
        ">=\n",
        "```\n",
        "\n",
        "\n",
        "Decision Making is like this:\n",
        "```python\n",
        "if protein == 'salmon':\n",
        "    print(\"I love salmon!\")\n",
        "```\n",
        "\n",
        "![how conditional works](images/decision_making.jpg)\n",
        "\n",
        "\n",
        "Will I like this bento box?\n",
        "```python\n",
        "if main == 'rice':\n",
        "    print(\"no carbs, please!\")\n",
        "elif ozofprotein >= 2.5:\n",
        "    print(\"too much!\")\n",
        "else:\n",
        "    print(\"I have no problems with this order\")\n",
        "```\n",
        "\n",
        "\n",
        "The [tools](https://docs.python.org/3/tutorial/controlflow.html)  used in conditionals are `if`, `elif`, and `else`\n",
        "\n",
        "Update the above code example, but rather than `print` set `greatbento` equal to `True` or `False` depending on the values of the bento box ingredients."
      ]
    },
    {
      "cell_type": "code",
      "metadata": {
        "id": "OnltlUbw8_vj",
        "colab_type": "code",
        "colab": {
          "base_uri": "https://localhost:8080/",
          "height": 35
        },
        "outputId": "19c9e083-c910-4baa-fd55-e74fc6487503"
      },
      "source": [
        "if protein == 'salmon' or protein == 'ginger chicken':\n",
        "    print(\"these are good with me!\")"
      ],
      "execution_count": 36,
      "outputs": [
        {
          "output_type": "stream",
          "text": [
            "these are good with me!\n"
          ],
          "name": "stdout"
        }
      ]
    },
    {
      "cell_type": "code",
      "metadata": {
        "id": "cgMKpJp5DVXT",
        "colab_type": "code",
        "colab": {}
      },
      "source": [
        "main = 'salad'"
      ],
      "execution_count": 0,
      "outputs": []
    },
    {
      "cell_type": "code",
      "metadata": {
        "id": "l22II2ceDfVS",
        "colab_type": "code",
        "colab": {}
      },
      "source": [
        "ozofprotein = 2.49999999999"
      ],
      "execution_count": 0,
      "outputs": []
    },
    {
      "cell_type": "code",
      "metadata": {
        "id": "pof_2Hs4C_kS",
        "colab_type": "code",
        "colab": {
          "base_uri": "https://localhost:8080/",
          "height": 35
        },
        "outputId": "e02b5768-21f5-46c3-fe06-ccac528a28af"
      },
      "source": [
        "if main == 'rice':\n",
        "    print(\"no carbs, please!\")\n",
        "elif ozofprotein >= 2.5:\n",
        "    if ozofprotein < 1:\n",
        "        print(\"too little!\")\n",
        "    print(\"too much!\")\n",
        "else:\n",
        "    print(\"I have no problems with this order\")"
      ],
      "execution_count": 46,
      "outputs": [
        {
          "output_type": "stream",
          "text": [
            "I have no problems with this order\n"
          ],
          "name": "stdout"
        }
      ]
    },
    {
      "cell_type": "markdown",
      "metadata": {
        "id": "_mOpXc4e8_vl",
        "colab_type": "text"
      },
      "source": [
        "# Using Lists: Indexing, ranges, appending"
      ]
    },
    {
      "cell_type": "markdown",
      "metadata": {
        "id": "gj9EcPC28_vl",
        "colab_type": "text"
      },
      "source": [
        "#### Lists\n",
        "\n",
        "Writing out all those ingredients individually is a pain, let's put them in a list!\n",
        "\n",
        "![dog-to-do-list](https://media.giphy.com/media/xTiTnuhyBF54B852nK/giphy.gif)\n",
        "\n",
        "\n",
        "```python\n",
        "bento_box_list = [\"rice\", \"chicken teriyaki\", \"tempura\", \"soy sauce\", \"ginger\", \"seaweed\"]\n",
        "bento_box_list[2]\n",
        "\n",
        "# Output: tempura\n",
        "\n",
        "numbers[0:2]\n",
        "\n",
        "# Output: [\"rice\", \"chicken teriyaki\"]\n",
        "```\n",
        "To append to a list:\n",
        "\n",
        "```python\n",
        "bento_box_list = [\"rice\", \"chicken teriyaki\", \"tempura\", \"soy sauce\", \"ginger\", \"seaweed\"]\n",
        "bento_box_list.append(\"wasabi\")\n",
        "print(bento_box_list)\n",
        "\n",
        "# Output: [\"rice\", \"chicken teriyaki\", \"tempura\", \"soy sauce\", \"ginger\", \"seaweed\", \"wasabi\"]\n",
        "```\n",
        "\n",
        "Now, let's put our order in a readable format using `join`\n",
        "\n",
        "\n",
        "```python\n",
        "print(\"I'd like my bento box to contain: \" + \n",
        "      \",\".join(bento_box_list[:-1] + \n",
        "      \", and \" + bento_box_list[-1])\n",
        "```\n",
        "\n",
        "Make a list of your bento box ingredients!  Have it print out in a legible sentence!"
      ]
    },
    {
      "cell_type": "code",
      "metadata": {
        "id": "U87BmBuqEc3u",
        "colab_type": "code",
        "colab": {}
      },
      "source": [
        "bento_box_list = [\"rice\", \"chicken teriyaki\", \"that good, good tempura\", \"soy sauce\", \"ginger\", \"seaweed\"]"
      ],
      "execution_count": 0,
      "outputs": []
    },
    {
      "cell_type": "code",
      "metadata": {
        "id": "1g_kqwhe8_vm",
        "colab_type": "code",
        "colab": {
          "base_uri": "https://localhost:8080/",
          "height": 35
        },
        "outputId": "f8916f7c-7a29-4540-c657-9928e20fb455"
      },
      "source": [
        "len(bento_box_list)"
      ],
      "execution_count": 48,
      "outputs": [
        {
          "output_type": "execute_result",
          "data": {
            "text/plain": [
              "6"
            ]
          },
          "metadata": {
            "tags": []
          },
          "execution_count": 48
        }
      ]
    },
    {
      "cell_type": "code",
      "metadata": {
        "id": "myL_z7KoGbmQ",
        "colab_type": "code",
        "colab": {
          "base_uri": "https://localhost:8080/",
          "height": 35
        },
        "outputId": "c59c5350-2a29-4724-ccba-44d187d4b48f"
      },
      "source": [
        "bento_box_list[-3:]"
      ],
      "execution_count": 65,
      "outputs": [
        {
          "output_type": "execute_result",
          "data": {
            "text/plain": [
              "['soy sauce', 'ginger', 'seaweed']"
            ]
          },
          "metadata": {
            "tags": []
          },
          "execution_count": 65
        }
      ]
    },
    {
      "cell_type": "code",
      "metadata": {
        "id": "TGDSj81ZHt6r",
        "colab_type": "code",
        "colab": {}
      },
      "source": [
        "bento_box_list = bento_box_list + ['coke']"
      ],
      "execution_count": 0,
      "outputs": []
    },
    {
      "cell_type": "code",
      "metadata": {
        "id": "4qFo2KH1IEWi",
        "colab_type": "code",
        "colab": {
          "base_uri": "https://localhost:8080/",
          "height": 139
        },
        "outputId": "b58e8e58-4483-465f-95b0-34c217e94782"
      },
      "source": [
        "bento_box_list"
      ],
      "execution_count": 70,
      "outputs": [
        {
          "output_type": "execute_result",
          "data": {
            "text/plain": [
              "['rice',\n",
              " 'chicken teriyaki',\n",
              " 'that good, good tempura',\n",
              " 'soy sauce',\n",
              " 'ginger',\n",
              " 'seaweed',\n",
              " 'coke']"
            ]
          },
          "metadata": {
            "tags": []
          },
          "execution_count": 70
        }
      ]
    },
    {
      "cell_type": "code",
      "metadata": {
        "id": "dloP4ZFlIc8B",
        "colab_type": "code",
        "colab": {}
      },
      "source": [
        "bento_box_list += ['cookie']"
      ],
      "execution_count": 0,
      "outputs": []
    },
    {
      "cell_type": "code",
      "metadata": {
        "id": "YTv2SjKSIl2i",
        "colab_type": "code",
        "colab": {
          "base_uri": "https://localhost:8080/",
          "height": 156
        },
        "outputId": "4c147114-272e-49dc-a65d-36698aca855b"
      },
      "source": [
        "bento_box_list"
      ],
      "execution_count": 72,
      "outputs": [
        {
          "output_type": "execute_result",
          "data": {
            "text/plain": [
              "['rice',\n",
              " 'chicken teriyaki',\n",
              " 'that good, good tempura',\n",
              " 'soy sauce',\n",
              " 'ginger',\n",
              " 'seaweed',\n",
              " 'coke',\n",
              " 'cookie']"
            ]
          },
          "metadata": {
            "tags": []
          },
          "execution_count": 72
        }
      ]
    },
    {
      "cell_type": "code",
      "metadata": {
        "id": "BLcMSNXvItnj",
        "colab_type": "code",
        "colab": {
          "base_uri": "https://localhost:8080/",
          "height": 35
        },
        "outputId": "a9be6705-3e3e-4dd2-eaf0-7bfa4ea1c4c4"
      },
      "source": [
        "type(bento_box_list)"
      ],
      "execution_count": 73,
      "outputs": [
        {
          "output_type": "execute_result",
          "data": {
            "text/plain": [
              "list"
            ]
          },
          "metadata": {
            "tags": []
          },
          "execution_count": 73
        }
      ]
    },
    {
      "cell_type": "code",
      "metadata": {
        "id": "1yw1r50xIzny",
        "colab_type": "code",
        "colab": {}
      },
      "source": [
        "bento_box_list.append('wasabi')"
      ],
      "execution_count": 0,
      "outputs": []
    },
    {
      "cell_type": "code",
      "metadata": {
        "id": "cN91dm1QJrZ-",
        "colab_type": "code",
        "colab": {
          "base_uri": "https://localhost:8080/",
          "height": 35
        },
        "outputId": "3963309b-fcbe-41df-90e9-7a03c50bbbf8"
      },
      "source": [
        "main.upper()"
      ],
      "execution_count": 77,
      "outputs": [
        {
          "output_type": "execute_result",
          "data": {
            "text/plain": [
              "'SALAD'"
            ]
          },
          "metadata": {
            "tags": []
          },
          "execution_count": 77
        }
      ]
    },
    {
      "cell_type": "code",
      "metadata": {
        "id": "_c8iqWM8JRPT",
        "colab_type": "code",
        "colab": {
          "base_uri": "https://localhost:8080/",
          "height": 173
        },
        "outputId": "83e099e5-9e0d-49c5-f954-d9830ef5b5e0"
      },
      "source": [
        "bento_box_list"
      ],
      "execution_count": 75,
      "outputs": [
        {
          "output_type": "execute_result",
          "data": {
            "text/plain": [
              "['rice',\n",
              " 'chicken teriyaki',\n",
              " 'that good, good tempura',\n",
              " 'soy sauce',\n",
              " 'ginger',\n",
              " 'seaweed',\n",
              " 'coke',\n",
              " 'cookie',\n",
              " 'wasabi']"
            ]
          },
          "metadata": {
            "tags": []
          },
          "execution_count": 75
        }
      ]
    },
    {
      "cell_type": "markdown",
      "metadata": {
        "id": "O2HTgYPv8_vo",
        "colab_type": "text"
      },
      "source": [
        "#### Dictionaries\n",
        "\n",
        "<img src=\"https://images.pexels.com/photos/270233/pexels-photo-270233.jpeg?auto=compress&cs=tinysrgb&dpr=2&w=500\" width=550 >\n",
        "\n",
        "No, not that kind! \n",
        "\n",
        "With your list above, someone would need to tell you that \"rice\" is the main and \"chicken\" is the protein. \n",
        "\n",
        "Dictionaries let you assign **key** and **value** pairs. \n",
        "\n",
        "Rather than using **indexing** you use **keys** to return values.\n",
        "\n",
        "```python\n",
        "bento_box_dict = {'ingredient1': 'rice', 'ingredient2': 'unagi', 'ingredient3': 'miso soup'}\n",
        "```\n",
        "To get an element in the dictionary:\n",
        "```python\n",
        "print(bento_box_dict['ingredient2'])\n",
        "```\n",
        "\n",
        "Update your bento_box_list to be a dictionary. Make sure to run `type()` on your dictionary to confirm it is successful."
      ]
    },
    {
      "cell_type": "code",
      "metadata": {
        "id": "Nv93E0QO8_vo",
        "colab_type": "code",
        "colab": {}
      },
      "source": [
        ""
      ],
      "execution_count": 0,
      "outputs": []
    },
    {
      "cell_type": "markdown",
      "metadata": {
        "id": "rmMR5OCX8_vq",
        "colab_type": "text"
      },
      "source": [
        "Now, to make it even better, you can nest **DICTIONARIES** INSIDE of **LISTS**\n",
        "\n",
        "```python\n",
        "group_lunch = [\n",
        "    {'ingredient1': 'rice', 'ingredient2': 'unagi', 'ingredient3': 'miso soup'},\n",
        "    {'ingredient1': 'seaweed', 'ingredient2': 'tempura', 'ingredient3': 'miso soup'},\n",
        "    {'ingredient1': 'hamburger', 'ingredient2': 'french fries', 'ingredient3': 'milkshake'}\n",
        "]\n",
        "```\n",
        "\n",
        "try calling elements of group lunch and see what you get!"
      ]
    },
    {
      "cell_type": "code",
      "metadata": {
        "id": "UQqGntTN8_vr",
        "colab_type": "code",
        "colab": {}
      },
      "source": [
        ""
      ],
      "execution_count": 0,
      "outputs": []
    },
    {
      "cell_type": "markdown",
      "metadata": {
        "id": "yjHCefEW8_vs",
        "colab_type": "text"
      },
      "source": [
        "Talk with your neighbors to get a few different bento box orders into a group order. Please limit each order to 5 ingredients. "
      ]
    },
    {
      "cell_type": "code",
      "metadata": {
        "id": "iyXGPSzv8_vt",
        "colab_type": "code",
        "colab": {}
      },
      "source": [
        ""
      ],
      "execution_count": 0,
      "outputs": []
    },
    {
      "cell_type": "markdown",
      "metadata": {
        "id": "HVXZn8Fk8_vv",
        "colab_type": "text"
      },
      "source": [
        "#### For loops\n",
        "\n",
        "Okay, is anyone confused about for-loops? \n",
        "\n",
        "(if so - ask me about laundry)\n",
        "\n",
        "If NOT:\n",
        "\n",
        "```python\n",
        "group_lunch = [\n",
        "    {'ingredient1': 'rice', 'ingredient2': 'unagi', 'ingredient3': 'miso soup'},\n",
        "    {'ingredient1': 'seaweed', 'ingredient2': 'tempura', 'ingredient3': 'miso soup'},\n",
        "    {'ingredient1': 'hamburger', 'ingredient2': 'french fries', 'ingredient3': 'milkshake'}\n",
        "]\n",
        "```\n",
        "\n",
        "write a loop to print first ingredient in everyone's bento order.\n",
        "\n"
      ]
    },
    {
      "cell_type": "code",
      "metadata": {
        "id": "tsOuu5xy8_vv",
        "colab_type": "code",
        "colab": {}
      },
      "source": [
        ""
      ],
      "execution_count": 0,
      "outputs": []
    },
    {
      "cell_type": "markdown",
      "metadata": {
        "id": "fEYItGAB8_vx",
        "colab_type": "text"
      },
      "source": [
        "### Integration\n",
        "\n",
        "Write a for loop that will go through and print all the orders as a readable sentences. "
      ]
    },
    {
      "cell_type": "code",
      "metadata": {
        "id": "dyDCFfAe8_vy",
        "colab_type": "code",
        "colab": {}
      },
      "source": [
        ""
      ],
      "execution_count": 0,
      "outputs": []
    },
    {
      "cell_type": "markdown",
      "metadata": {
        "id": "Epq_uBGt8_v0",
        "colab_type": "text"
      },
      "source": [
        "### Reflection:\n",
        "\n",
        "What's an situation where you could use lists and loops to automate a process?\n"
      ]
    },
    {
      "cell_type": "code",
      "metadata": {
        "id": "WBwJ4A1T8_v1",
        "colab_type": "code",
        "colab": {}
      },
      "source": [
        ""
      ],
      "execution_count": 0,
      "outputs": []
    }
  ]
}