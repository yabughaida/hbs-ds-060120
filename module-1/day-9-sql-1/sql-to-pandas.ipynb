{
 "cells": [
  {
   "cell_type": "markdown",
   "metadata": {
    "slideshow": {
     "slide_type": "slide"
    }
   },
   "source": [
    "![sql](img/sql-logo.jpg)\n",
    "\n",
    "# A beginner's guide to databases, SQL, & using them with `pandas`"
   ]
  },
  {
   "cell_type": "code",
   "execution_count": null,
   "metadata": {},
   "outputs": [],
   "source": []
  },
  {
   "cell_type": "markdown",
   "metadata": {
    "slideshow": {
     "slide_type": "slide"
    }
   },
   "source": [
    "**Scenario:** You are a data analyst for the Homeland Security, trying to create reports on the active airports world wide. The data you need to access is in a SQL database. YOu need to be able to query for the data in a database!"
   ]
  },
  {
   "cell_type": "markdown",
   "metadata": {
    "slideshow": {
     "slide_type": "slide"
    }
   },
   "source": [
    "## Learning goals:\n",
    "- Goal 1: Summarize the use case for sql in the data science skill set\n",
    "- Goal 2: Define key sql terminology\n",
    "- Goal 3: Get information about DB schema and table structure\n",
    "- Goal 4: Use basic SQL commands:\n",
    "    - Construct SQL queries\n",
    "    - Use `JOIN` to merge tables along logical columns\n",
    "    - Grouping Data with SQL, inlcuding `HAVING`\n",
    "- Goal 5: Convert SQL to pandas"
   ]
  },
  {
   "cell_type": "markdown",
   "metadata": {
    "slideshow": {
     "slide_type": "slide"
    }
   },
   "source": [
    "## Goal 1: Summarize\n",
    "\n",
    "To date the data we've seen has looked like [this.](https://data.austintexas.gov/Health-and-Community-Services/Austin-Animal-Center-Intakes/wter-evkm)\n",
    "\n",
    "That is how we need data to look to run analysis and build models.<br>\n",
    "But it doesn't _live_ there in it's native state."
   ]
  },
  {
   "cell_type": "markdown",
   "metadata": {
    "slideshow": {
     "slide_type": "slide"
    }
   },
   "source": [
    "[Netflix has a great article](https://medium.com/netflix-techblog/notebook-innovation-591ee3221233) describing three different data roles at their company, their different needs, and their toolsets.\n",
    "\n",
    "![netflix](img/netflix-data-roles.jpeg)\n",
    "\n",
    "Examining that graphic, SQL shows up as one of the tools of the _Data Engineer_ "
   ]
  },
  {
   "cell_type": "markdown",
   "metadata": {
    "slideshow": {
     "slide_type": "slide"
    }
   },
   "source": [
    "Data Engineers provide the essential data architecture services that make data science possible.\n",
    "\n",
    "![hierarchy](img/ai-hierachy.png)\n",
    "\n",
    "[Source: Monica Rogati’s fantastic Medium post “The AI Hierarchy of Needs”\n",
    "](https://hackernoon.com/the-ai-hierarchy-of-needs-18f111fcc007)"
   ]
  },
  {
   "cell_type": "markdown",
   "metadata": {},
   "source": [
    "## What does it mean to **Engineer Data**?\n",
    "\n",
    "Let's start with a basic scenario:<br>\n",
    "You are HR. You have *no* current database. \n",
    "How would you set it up?\n",
    "\n",
    "Data needs considerations:\n",
    "- What you want to store\n",
    "- What \"views\" you anticipate wanting in the future\n",
    "\n",
    "Structure considerations:\n",
    "- Speed of retrieval\n",
    "- How much data you are accessing\n",
    "- How much you are storing"
   ]
  },
  {
   "cell_type": "markdown",
   "metadata": {
    "slideshow": {
     "slide_type": "slide"
    }
   },
   "source": [
    "![etl](img/etl.png)\n",
    "\n",
    "[img source: Jeff Hammerbacher’s slide from UC Berkeley CS 194 course ](https://bcourses.berkeley.edu/courses/1377158/pages/cs-194-16-introduction-to-data-science-fall-2015)"
   ]
  },
  {
   "cell_type": "markdown",
   "metadata": {
    "slideshow": {
     "slide_type": "slide"
    }
   },
   "source": [
    "### What is a Relational Database? \n",
    "\n",
    "![rdb](img/relational-dbms-model.png)\n",
    "[reference for image ](https://www.studytonight.com/dbms/database-model.php)"
   ]
  },
  {
   "cell_type": "markdown",
   "metadata": {
    "slideshow": {
     "slide_type": "slide"
    }
   },
   "source": [
    "### POPULAR RDBMS\n",
    "\n",
    "- SQLite\n",
    "- MySQL\n",
    "- PostgreSql\n",
    "- Oracle DB\n",
    "- SQL Server"
   ]
  },
  {
   "cell_type": "markdown",
   "metadata": {},
   "source": [
    "***\n",
    "### SQL Readings\n",
    "\n",
    "[History of SQL](https://www.businessnewsdaily.com/5804-what-is-sql.html)\n",
    "\n",
    "[The original SQL paper from the 1970s.](https://www.seas.upenn.edu/~zives/03f/cis550/codd.pdf)"
   ]
  },
  {
   "cell_type": "markdown",
   "metadata": {
    "slideshow": {
     "slide_type": "slide"
    }
   },
   "source": [
    "***\n",
    "## Goal 2: Database terminology\n",
    "\n",
    "### Relational Database Schema\n",
    "\n",
    "![schema](img/MySQL_Schema_Music_Example.png)\n",
    "\n",
    "[source of image](https://database.guide/what-is-a-database-schema/)"
   ]
  },
  {
   "cell_type": "markdown",
   "metadata": {
    "slideshow": {
     "slide_type": "slide"
    }
   },
   "source": [
    "***\n",
    "### SQLite\n",
    "\n",
    "<img src=\"img/SQLite-Python.jpg\" width=500>\n",
    "\n",
    "- C library (fast)\n",
    "- lightweight disk-based database\n",
    "- that doesn’t require a separate server process\n",
    "- nonstandard variant of the SQL query language\n",
    "- applications can use SQLite for internal data storage\n",
    "- use case: prototype an application using SQLite and then port the code to a larger database such as PostgreSQL or Oracle\n",
    "\n",
    "[sqlite documentation](https://docs.python.org/2/library/sqlite3.html)\n",
    "\n"
   ]
  },
  {
   "cell_type": "markdown",
   "metadata": {
    "slideshow": {
     "slide_type": "slide"
    }
   },
   "source": [
    "## But what about connecting to database servers?\n",
    "\n",
    "To connect to other database types there are many different libraries:\n",
    "- Oracle: [cx_Oracle](https://oracle.github.io/python-cx_Oracle/)\n",
    "- MySQL: [MySQL-python](https://github.com/farcepest/MySQLdb1)\n",
    "- PostgreSQL: [Psycopg2](http://initd.org/psycopg/docs/)\n",
    "- Microsoft SQL Server: [pymssql](http://www.pymssql.org/en/stable/)\n",
    "\n",
    "These all implement [PEP 249: DB API v2](https://www.python.org/dev/peps/pep-0249/)"
   ]
  },
  {
   "cell_type": "markdown",
   "metadata": {
    "slideshow": {
     "slide_type": "slide"
    }
   },
   "source": [
    "## Goal 3: Get going with sqlite!"
   ]
  },
  {
   "cell_type": "code",
   "execution_count": 1,
   "metadata": {
    "slideshow": {
     "slide_type": "fragment"
    }
   },
   "outputs": [],
   "source": [
    "import sqlite3"
   ]
  },
  {
   "cell_type": "markdown",
   "metadata": {
    "slideshow": {
     "slide_type": "slide"
    }
   },
   "source": [
    "#### Load a DB object with `connect` and `cursor`"
   ]
  },
  {
   "cell_type": "code",
   "execution_count": 2,
   "metadata": {
    "slideshow": {
     "slide_type": "fragment"
    }
   },
   "outputs": [],
   "source": [
    "con = sqlite3.connect('data/flights.db')\n",
    "cursor = con.cursor()"
   ]
  },
  {
   "cell_type": "markdown",
   "metadata": {
    "slideshow": {
     "slide_type": "slide"
    }
   },
   "source": [
    "#### Use sqlite_master to find all the tables in the schema\n",
    "Get the schema of a database from a db in sqlite"
   ]
  },
  {
   "cell_type": "code",
   "execution_count": 3,
   "metadata": {},
   "outputs": [
    {
     "name": "stdout",
     "output_type": "stream",
     "text": [
      "[('airports',), ('airlines',), ('routes',)]\n"
     ]
    }
   ],
   "source": [
    "cursor.execute(\"SELECT name FROM sqlite_master WHERE type='table';\")\n",
    "print(cursor.fetchall())"
   ]
  },
  {
   "cell_type": "code",
   "execution_count": 4,
   "metadata": {},
   "outputs": [
    {
     "data": {
      "text/plain": [
       "(('name', None, None, None, None, None, None),)"
      ]
     },
     "execution_count": 4,
     "metadata": {},
     "output_type": "execute_result"
    }
   ],
   "source": [
    "cursor.description"
   ]
  },
  {
   "cell_type": "code",
   "execution_count": 5,
   "metadata": {},
   "outputs": [
    {
     "name": "stdout",
     "output_type": "stream",
     "text": [
      "[('airports', 'table'), ('ix_airports_index', 'index'), ('airlines', 'table'), ('ix_airlines_index', 'index'), ('routes', 'table'), ('ix_routes_index', 'index')]\n"
     ]
    }
   ],
   "source": [
    "cursor.execute(\"SELECT name, type FROM sqlite_master;\")\n",
    "print(cursor.fetchall())"
   ]
  },
  {
   "cell_type": "code",
   "execution_count": 6,
   "metadata": {},
   "outputs": [
    {
     "name": "stdout",
     "output_type": "stream",
     "text": [
      "('table', 'airports', 'airports', 2, 'CREATE TABLE airports (\\n[index] INTEGER,\\n  [id] TEXT,\\n  [name] TEXT,\\n  [city] TEXT,\\n  [country] TEXT,\\n  [code] TEXT,\\n  [icao] TEXT,\\n  [latitude] TEXT,\\n  [longitude] TEXT,\\n  [altitude] TEXT,\\n  [offset] TEXT,\\n  [dst] TEXT,\\n  [timezone] TEXT\\n)')\n",
      "('index', 'ix_airports_index', 'airports', 3, 'CREATE INDEX ix_airports_index ON airports ([index])')\n",
      "('table', 'airlines', 'airlines', 945, 'CREATE TABLE airlines (\\n[index] INTEGER,\\n  [id] TEXT,\\n  [name] TEXT,\\n  [alias] TEXT,\\n  [iata] TEXT,\\n  [icao] TEXT,\\n  [callsign] TEXT,\\n  [country] TEXT,\\n  [active] TEXT\\n)')\n",
      "('index', 'ix_airlines_index', 'airlines', 946, 'CREATE INDEX ix_airlines_index ON airlines ([index])')\n",
      "('table', 'routes', 'routes', 1393, 'CREATE TABLE routes (\\n[index] INTEGER,\\n  [airline] TEXT,\\n  [airline_id] TEXT,\\n  [source] TEXT,\\n  [source_id] TEXT,\\n  [dest] TEXT,\\n  [dest_id] TEXT,\\n  [codeshare] TEXT,\\n  [stops] TEXT,\\n  [equipment] TEXT\\n)')\n",
      "('index', 'ix_routes_index', 'routes', 1394, 'CREATE INDEX ix_routes_index ON routes ([index])')\n"
     ]
    }
   ],
   "source": [
    "cursor.execute(\"SELECT * FROM sqlite_master;\")\n",
    "results = cursor.fetchall()\n",
    "for res in results:\n",
    "    print(res)"
   ]
  },
  {
   "cell_type": "markdown",
   "metadata": {
    "slideshow": {
     "slide_type": "slide"
    }
   },
   "source": [
    "#### Get information about one table\n",
    "\n",
    "**A note about** `execute`<br>\n",
    "Each time you use it, you reset the value of cursor"
   ]
  },
  {
   "cell_type": "code",
   "execution_count": 7,
   "metadata": {},
   "outputs": [
    {
     "data": {
      "text/plain": [
       "(0,\n",
       " '1',\n",
       " 'Goroka',\n",
       " 'Goroka',\n",
       " 'Papua New Guinea',\n",
       " 'GKA',\n",
       " 'AYGA',\n",
       " '-6.081689',\n",
       " '145.391881',\n",
       " '5282',\n",
       " '10',\n",
       " 'U',\n",
       " 'Pacific/Port_Moresby')"
      ]
     },
     "execution_count": 7,
     "metadata": {},
     "output_type": "execute_result"
    }
   ],
   "source": [
    "cursor.execute(\"SELECT * FROM airports as a\").fetchone()"
   ]
  },
  {
   "cell_type": "code",
   "execution_count": 8,
   "metadata": {},
   "outputs": [
    {
     "data": {
      "text/plain": [
       "(1,\n",
       " '2',\n",
       " 'Madang',\n",
       " 'Madang',\n",
       " 'Papua New Guinea',\n",
       " 'MAG',\n",
       " 'AYMD',\n",
       " '-5.207083',\n",
       " '145.7887',\n",
       " '20',\n",
       " '10',\n",
       " 'U',\n",
       " 'Pacific/Port_Moresby')"
      ]
     },
     "execution_count": 8,
     "metadata": {},
     "output_type": "execute_result"
    }
   ],
   "source": [
    "cursor.fetchone()"
   ]
  },
  {
   "cell_type": "code",
   "execution_count": 19,
   "metadata": {},
   "outputs": [
    {
     "name": "stdout",
     "output_type": "stream",
     "text": [
      "38\t39\tChilliwack\tChilliwack\tCanada\tYCW\tCYCW\t49.152779\t-121.93889\t32\t-8\tA\tAmerica/Vancouver\n",
      "39\t40\tClyde River\tClyde River\tCanada\tYCY\tCYCY\t70.486111\t-68.516667\t87\t-5\tA\tAmerica/Toronto\n",
      "40\t41\tFairmont Hot Springs\tCoral Harbour\tCanada\tYZS\tCYCZ\t64.193333\t-83.359444\t2661\t-5\tA\tAmerica/Coral_Harbour\n",
      "41\t42\tDawson City\tDawson\tCanada\tYDA\tCYDA\t64.043056\t-139.127778\t1215\t-8\tA\tAmerica/Vancouver\n"
     ]
    }
   ],
   "source": [
    "for row in cursor.fetchmany(4):\n",
    "    print('\\t'.join([str(x) for x in row]))"
   ]
  },
  {
   "cell_type": "markdown",
   "metadata": {
    "slideshow": {
     "slide_type": "slide"
    }
   },
   "source": [
    "#### Use description"
   ]
  },
  {
   "cell_type": "code",
   "execution_count": 22,
   "metadata": {
    "slideshow": {
     "slide_type": "fragment"
    }
   },
   "outputs": [
    {
     "data": {
      "text/plain": [
       "(('id', None, None, None, None, None, None),\n",
       " ('seq', None, None, None, None, None, None),\n",
       " ('table', None, None, None, None, None, None),\n",
       " ('from', None, None, None, None, None, None),\n",
       " ('to', None, None, None, None, None, None),\n",
       " ('on_update', None, None, None, None, None, None),\n",
       " ('on_delete', None, None, None, None, None, None),\n",
       " ('match', None, None, None, None, None, None))"
      ]
     },
     "execution_count": 22,
     "metadata": {},
     "output_type": "execute_result"
    }
   ],
   "source": [
    "cursor.description"
   ]
  },
  {
   "cell_type": "markdown",
   "metadata": {
    "slideshow": {
     "slide_type": "slide"
    }
   },
   "source": [
    "#### Or use `Pragma`\n",
    "`Pragma` tool [link here](https://www.sqlite.org/pragma.html#pragma_table_info)\n",
    "\n",
    "**output**<br>\n",
    "`(column id, column name, data type, whether or not the column can be NULL, and the default value for the column)`"
   ]
  },
  {
   "cell_type": "code",
   "execution_count": 23,
   "metadata": {
    "slideshow": {
     "slide_type": "slide"
    }
   },
   "outputs": [
    {
     "name": "stdout",
     "output_type": "stream",
     "text": [
      "(0, 'index', 'INTEGER', 0, None, 0)\n",
      "(1, 'id', 'TEXT', 0, None, 0)\n",
      "(2, 'name', 'TEXT', 0, None, 0)\n",
      "(3, 'city', 'TEXT', 0, None, 0)\n",
      "(4, 'country', 'TEXT', 0, None, 0)\n",
      "(5, 'code', 'TEXT', 0, None, 0)\n",
      "(6, 'icao', 'TEXT', 0, None, 0)\n",
      "(7, 'latitude', 'TEXT', 0, None, 0)\n",
      "(8, 'longitude', 'TEXT', 0, None, 0)\n",
      "(9, 'altitude', 'TEXT', 0, None, 0)\n",
      "(10, 'offset', 'TEXT', 0, None, 0)\n",
      "(11, 'dst', 'TEXT', 0, None, 0)\n",
      "(12, 'timezone', 'TEXT', 0, None, 0)\n"
     ]
    }
   ],
   "source": [
    "cursor.execute(\"PRAGMA table_info(airports)\")\n",
    "info = cursor.fetchall()\n",
    "print(*info, sep = \"\\n\") "
   ]
  },
  {
   "cell_type": "markdown",
   "metadata": {
    "slideshow": {
     "slide_type": "slide"
    }
   },
   "source": [
    "#### Making fetch happen\n",
    "\n",
    "`.fetchall()` is how you get the query results out of the object.\n",
    "\n",
    "You can also `.fetchone()` or `.fetchmany()`"
   ]
  },
  {
   "cell_type": "markdown",
   "metadata": {
    "slideshow": {
     "slide_type": "slide"
    }
   },
   "source": [
    "**Task:** Get the descriptive data for airlines and routes tables"
   ]
  },
  {
   "cell_type": "code",
   "execution_count": null,
   "metadata": {},
   "outputs": [],
   "source": []
  },
  {
   "cell_type": "code",
   "execution_count": 36,
   "metadata": {
    "scrolled": true
   },
   "outputs": [
    {
     "name": "stdout",
     "output_type": "stream",
     "text": [
      "(0, 'index', 'INTEGER', 0, None, 0)\n",
      "(1, 'id', 'TEXT', 0, None, 0)\n",
      "(2, 'name', 'TEXT', 0, None, 0)\n",
      "(3, 'alias', 'TEXT', 0, None, 0)\n",
      "(4, 'iata', 'TEXT', 0, None, 0)\n",
      "(5, 'icao', 'TEXT', 0, None, 0)\n",
      "(6, 'callsign', 'TEXT', 0, None, 0)\n",
      "(7, 'country', 'TEXT', 0, None, 0)\n",
      "(8, 'active', 'TEXT', 0, None, 0)\n"
     ]
    }
   ],
   "source": [
    "cursor.execute(\"PRAGMA table_info(airlines)\")\n",
    "info = cursor.fetchall()\n",
    "print(*info, sep = \"\\n\")"
   ]
  },
  {
   "cell_type": "code",
   "execution_count": 25,
   "metadata": {},
   "outputs": [
    {
     "name": "stdout",
     "output_type": "stream",
     "text": [
      "(0, 'index', 'INTEGER', 0, None, 0)\n",
      "(1, 'airline', 'TEXT', 0, None, 0)\n",
      "(2, 'airline_id', 'TEXT', 0, None, 0)\n",
      "(3, 'source', 'TEXT', 0, None, 0)\n",
      "(4, 'source_id', 'TEXT', 0, None, 0)\n",
      "(5, 'dest', 'TEXT', 0, None, 0)\n",
      "(6, 'dest_id', 'TEXT', 0, None, 0)\n",
      "(7, 'codeshare', 'TEXT', 0, None, 0)\n",
      "(8, 'stops', 'TEXT', 0, None, 0)\n",
      "(9, 'equipment', 'TEXT', 0, None, 0)\n"
     ]
    }
   ],
   "source": [
    "cursor.execute(\"PRAGMA table_info(routes)\")\n",
    "info = cursor.fetchall()\n",
    "print(*info, sep = \"\\n\")"
   ]
  },
  {
   "cell_type": "markdown",
   "metadata": {
    "slideshow": {
     "slide_type": "slide"
    }
   },
   "source": [
    "***\n",
    "## Goal 4: Use basic SQL commands "
   ]
  },
  {
   "cell_type": "markdown",
   "metadata": {
    "slideshow": {
     "slide_type": "slide"
    }
   },
   "source": [
    "### The Structure of a SQL Query"
   ]
  },
  {
   "cell_type": "markdown",
   "metadata": {
    "slideshow": {
     "slide_type": "slide"
    }
   },
   "source": [
    "<img src='img/sql_statement.jpg'/>"
   ]
  },
  {
   "cell_type": "markdown",
   "metadata": {
    "slideshow": {
     "slide_type": "slide"
    }
   },
   "source": [
    "### Constructing SQL queries"
   ]
  },
  {
   "cell_type": "markdown",
   "metadata": {
    "slideshow": {
     "slide_type": "fragment"
    }
   },
   "source": [
    "**`SELECT`**:  The columns you want\n",
    "  - options: `DISTINCT`, using `AS` to rename columns, single number aggregates"
   ]
  },
  {
   "cell_type": "markdown",
   "metadata": {
    "slideshow": {
     "slide_type": "fragment"
    }
   },
   "source": [
    "**`FROM`:** the source tables\n",
    "  - options: also uses aliasing with `AS`; joining with `[LEFT|INNER|RIGHT|FULL] JOIN ___ [ON|USING]`"
   ]
  },
  {
   "cell_type": "markdown",
   "metadata": {
    "slideshow": {
     "slide_type": "fragment"
    }
   },
   "source": [
    "**`WHERE`**: your filters\n",
    "  - options: comparators like `=` & `>=`; `BETWEEN`, `IN`, `LIKE` (with wildcards `%`); booleans like `AND`, `OR`, `NOT`"
   ]
  },
  {
   "cell_type": "markdown",
   "metadata": {
    "slideshow": {
     "slide_type": "fragment"
    }
   },
   "source": [
    "**`ORDER BY`**: sorting\n",
    "  - options: `ASC` (default) and `DESC`"
   ]
  },
  {
   "cell_type": "markdown",
   "metadata": {
    "slideshow": {
     "slide_type": "fragment"
    }
   },
   "source": [
    "**`LIMIT`**:  # of rows to return (pair with `OFFSET`)"
   ]
  },
  {
   "cell_type": "markdown",
   "metadata": {
    "slideshow": {
     "slide_type": "slide"
    }
   },
   "source": [
    "**Task**: \n",
    "- Select only active airlines in the UK from the airlines table\n",
    "- Select the unique list of countries with airports"
   ]
  },
  {
   "cell_type": "code",
   "execution_count": null,
   "metadata": {},
   "outputs": [],
   "source": []
  },
  {
   "cell_type": "code",
   "execution_count": 38,
   "metadata": {},
   "outputs": [
    {
     "data": {
      "text/plain": [
       "[]"
      ]
     },
     "execution_count": 38,
     "metadata": {},
     "output_type": "execute_result"
    }
   ],
   "source": [
    "cursor.execute(\"\"\"\n",
    "\n",
    "\"\"\")\n",
    "cursor.fetchall()"
   ]
  },
  {
   "cell_type": "code",
   "execution_count": 39,
   "metadata": {},
   "outputs": [
    {
     "name": "stdout",
     "output_type": "stream",
     "text": [
      "('Afghanistan',)\n",
      "('Albania',)\n",
      "('Algeria',)\n",
      "('American Samoa',)\n",
      "('Angola',)\n",
      "('Anguilla',)\n",
      "('Antarctica',)\n",
      "('Antigua and Barbuda',)\n",
      "('Argentina',)\n",
      "('Armenia',)\n",
      "('Aruba',)\n",
      "('Australia',)\n",
      "('Austria',)\n",
      "('Azerbaijan',)\n",
      "('Bahamas',)\n",
      "('Bahrain',)\n",
      "('Bangladesh',)\n",
      "('Barbados',)\n",
      "('Belarus',)\n",
      "('Belgium',)\n",
      "('Belize',)\n",
      "('Benin',)\n",
      "('Bermuda',)\n",
      "('Bhutan',)\n",
      "('Bolivia',)\n",
      "('Bosnia and Herzegovina',)\n",
      "('Botswana',)\n",
      "('Brazil',)\n",
      "('British Indian Ocean Territory',)\n",
      "('British Virgin Islands',)\n",
      "('Brunei',)\n",
      "('Bulgaria',)\n",
      "('Burkina Faso',)\n",
      "('Burma',)\n",
      "('Burundi',)\n",
      "('Cambodia',)\n",
      "('Cameroon',)\n",
      "('Canada',)\n",
      "('Cape Verde',)\n",
      "('Cayman Islands',)\n",
      "('Central African Republic',)\n",
      "('Chad',)\n",
      "('Chile',)\n",
      "('China',)\n",
      "('Christmas Island',)\n",
      "('Cocos (Keeling) Islands',)\n",
      "('Colombia',)\n",
      "('Comoros',)\n",
      "('Congo (Brazzaville)',)\n",
      "('Congo (Kinshasa)',)\n",
      "('Cook Islands',)\n",
      "('Costa Rica',)\n",
      "(\"Cote d'Ivoire\",)\n",
      "('Croatia',)\n",
      "('Cuba',)\n",
      "('Cyprus',)\n",
      "('Czech Republic',)\n",
      "('Denmark',)\n",
      "('Djibouti',)\n",
      "('Dominica',)\n",
      "('Dominican Republic',)\n",
      "('East Timor',)\n",
      "('Ecuador',)\n",
      "('Egypt',)\n",
      "('El Salvador',)\n",
      "('Equatorial Guinea',)\n",
      "('Eritrea',)\n",
      "('Estonia',)\n",
      "('Ethiopia',)\n",
      "('Falkland Islands',)\n",
      "('Faroe Islands',)\n",
      "('Fiji',)\n",
      "('Finland',)\n",
      "('France',)\n",
      "('French Guiana',)\n",
      "('French Polynesia',)\n",
      "('Gabon',)\n",
      "('Gambia',)\n",
      "('Georgia',)\n",
      "('Germany',)\n",
      "('Ghana',)\n",
      "('Gibraltar',)\n",
      "('Greece',)\n",
      "('Greenland',)\n",
      "('Grenada',)\n",
      "('Guadeloupe',)\n",
      "('Guam',)\n",
      "('Guatemala',)\n",
      "('Guernsey',)\n",
      "('Guinea',)\n",
      "('Guinea-Bissau',)\n",
      "('Guyana',)\n",
      "('Haiti',)\n",
      "('Honduras',)\n",
      "('Hong Kong',)\n",
      "('Hungary',)\n",
      "('Iceland',)\n",
      "('India',)\n",
      "('Indonesia',)\n",
      "('Iran',)\n",
      "('Iraq',)\n",
      "('Ireland',)\n",
      "('Isle of Man',)\n",
      "('Israel',)\n",
      "('Italy',)\n",
      "('Jamaica',)\n",
      "('Japan',)\n",
      "('Jersey',)\n",
      "('Johnston Atoll',)\n",
      "('Jordan',)\n",
      "('Kazakhstan',)\n",
      "('Kenya',)\n",
      "('Kiribati',)\n",
      "('Korea',)\n",
      "('Kuwait',)\n",
      "('Kyrgyzstan',)\n",
      "('Laos',)\n",
      "('Latvia',)\n",
      "('Lebanon',)\n",
      "('Lesotho',)\n",
      "('Liberia',)\n",
      "('Libya',)\n",
      "('Lithuania',)\n",
      "('Luxembourg',)\n",
      "('Macau',)\n",
      "('Macedonia',)\n",
      "('Madagascar',)\n",
      "('Malawi',)\n",
      "('Malaysia',)\n",
      "('Maldives',)\n",
      "('Mali',)\n",
      "('Malta',)\n",
      "('Marshall Islands',)\n",
      "('Martinique',)\n",
      "('Mauritania',)\n",
      "('Mauritius',)\n",
      "('Mayotte',)\n",
      "('Mexico',)\n",
      "('Micronesia',)\n",
      "('Midway Islands',)\n",
      "('Moldova',)\n",
      "('Monaco',)\n",
      "('Mongolia',)\n",
      "('Montenegro',)\n",
      "('Montserrat',)\n",
      "('Morocco',)\n",
      "('Mozambique',)\n",
      "('Myanmar',)\n",
      "('Namibia',)\n",
      "('Nauru',)\n",
      "('Nepal',)\n",
      "('Netherlands',)\n",
      "('Netherlands Antilles',)\n",
      "('New Caledonia',)\n",
      "('New Zealand',)\n",
      "('Nicaragua',)\n",
      "('Niger',)\n",
      "('Nigeria',)\n",
      "('Niue',)\n",
      "('Norfolk Island',)\n",
      "('North Korea',)\n",
      "('Northern Mariana Islands',)\n",
      "('Norway',)\n",
      "('Oman',)\n",
      "('Pakistan',)\n",
      "('Palau',)\n",
      "('Palestine',)\n",
      "('Panama',)\n",
      "('Papua New Guinea',)\n",
      "('Paraguay',)\n",
      "('Peru',)\n",
      "('Philippines',)\n",
      "('Poland',)\n",
      "('Portugal',)\n",
      "('Puerto Rico',)\n",
      "('Qatar',)\n",
      "('Reunion',)\n",
      "('Romania',)\n",
      "('Russia',)\n",
      "('Rwanda',)\n",
      "('Saint Helena',)\n",
      "('Saint Kitts and Nevis',)\n",
      "('Saint Lucia',)\n",
      "('Saint Pierre and Miquelon',)\n",
      "('Saint Vincent and the Grenadines',)\n",
      "('Samoa',)\n",
      "('Sao Tome and Principe',)\n",
      "('Saudi Arabia',)\n",
      "('Senegal',)\n",
      "('Serbia',)\n",
      "('Seychelles',)\n",
      "('Sierra Leone',)\n",
      "('Singapore',)\n",
      "('Slovakia',)\n",
      "('Slovenia',)\n",
      "('Solomon Islands',)\n",
      "('Somalia',)\n",
      "('South Africa',)\n",
      "('South Georgia and the Islands',)\n",
      "('South Korea',)\n",
      "('South Sudan',)\n",
      "('Spain',)\n",
      "('Sri Lanka',)\n",
      "('Sudan',)\n",
      "('Suriname',)\n",
      "('Svalbard',)\n",
      "('Swaziland',)\n",
      "('Sweden',)\n",
      "('Switzerland',)\n",
      "('Syria',)\n",
      "('Taiwan',)\n",
      "('Tajikistan',)\n",
      "('Tanzania',)\n",
      "('Thailand',)\n",
      "('Togo',)\n",
      "('Tonga',)\n",
      "('Trinidad and Tobago',)\n",
      "('Tunisia',)\n",
      "('Turkey',)\n",
      "('Turkmenistan',)\n",
      "('Turks and Caicos Islands',)\n",
      "('Tuvalu',)\n",
      "('Uganda',)\n",
      "('Ukraine',)\n",
      "('United Arab Emirates',)\n",
      "('United Kingdom',)\n",
      "('United States',)\n",
      "('Uruguay',)\n",
      "('Uzbekistan',)\n",
      "('Vanuatu',)\n",
      "('Venezuela',)\n",
      "('Vietnam',)\n",
      "('Virgin Islands',)\n",
      "('Wake Island',)\n",
      "('Wallis and Futuna',)\n",
      "('West Bank',)\n",
      "('Western Sahara',)\n",
      "('Yemen',)\n",
      "('Zambia',)\n",
      "('Zimbabwe',)\n"
     ]
    }
   ],
   "source": [
    "cursor.execute(\"\"\"SELECT DISTINCT country FROM airports ORDER BY 1\"\"\")\n",
    "print(*cursor.fetchall(), sep='\\n')"
   ]
  },
  {
   "cell_type": "markdown",
   "metadata": {
    "slideshow": {
     "slide_type": "slide"
    }
   },
   "source": [
    "### SQL Joins"
   ]
  },
  {
   "cell_type": "markdown",
   "metadata": {
    "slideshow": {
     "slide_type": "fragment"
    }
   },
   "source": [
    "SQL joins can be used to both **add** data to a table and **remove** data from a table. "
   ]
  },
  {
   "cell_type": "markdown",
   "metadata": {
    "slideshow": {
     "slide_type": "fragment"
    }
   },
   "source": [
    "<img src=\"img/venn.png\" width=550>"
   ]
  },
  {
   "cell_type": "markdown",
   "metadata": {
    "slideshow": {
     "slide_type": "slide"
    }
   },
   "source": [
    "**Task** Write a query that will join the latitude and longitude data from the airports table to the information on the routes table"
   ]
  },
  {
   "cell_type": "code",
   "execution_count": 40,
   "metadata": {
    "slideshow": {
     "slide_type": "skip"
    }
   },
   "outputs": [
    {
     "name": "stdout",
     "output_type": "stream",
     "text": [
      "(0, '2B', '410', 'AER', '2965', 'KZN', '2990', None, '0', 'CR2', '43.449928', '39.956589')\n",
      "(1, '2B', '410', 'ASF', '2966', 'KZN', '2990', None, '0', 'CR2', '46.283333', '48.006278')\n",
      "(2, '2B', '410', 'ASF', '2966', 'MRV', '2962', None, '0', 'CR2', '46.283333', '48.006278')\n",
      "(3, '2B', '410', 'CEK', '2968', 'KZN', '2990', None, '0', 'CR2', '55.305836', '61.503333')\n",
      "(4, '2B', '410', 'CEK', '2968', 'OVB', '4078', None, '0', 'CR2', '55.305836', '61.503333')\n",
      "(5, '2B', '410', 'DME', '4029', 'KZN', '2990', None, '0', 'CR2', '55.408611', '37.906111')\n",
      "(6, '2B', '410', 'DME', '4029', 'NBC', '6969', None, '0', 'CR2', '55.408611', '37.906111')\n",
      "(7, '2B', '410', 'DME', '4029', 'TGK', '\\\\N', None, '0', 'CR2', '55.408611', '37.906111')\n",
      "(8, '2B', '410', 'DME', '4029', 'UUA', '6160', None, '0', 'CR2', '55.408611', '37.906111')\n",
      "(9, '2B', '410', 'EGO', '6156', 'KGD', '2952', None, '0', 'CR2', '50.6438', '36.5901')\n"
     ]
    }
   ],
   "source": [
    "cursor.execute(\"\"\"\n",
    "SELECT r.*,a.latitude AS source_lat,a.longitude as source_long\n",
    "FROM routes r\n",
    "JOIN airports a ON r.source_id = a.id\n",
    "\"\"\")\n",
    "print(*cursor.fetchmany(10), sep='\\n')"
   ]
  },
  {
   "cell_type": "markdown",
   "metadata": {
    "slideshow": {
     "slide_type": "slide"
    }
   },
   "source": [
    "### Grouping statements\n",
    "\n",
    "Combines `select` and `group by` when you want aggregates by values"
   ]
  },
  {
   "cell_type": "markdown",
   "metadata": {
    "slideshow": {
     "slide_type": "fragment"
    }
   },
   "source": [
    "`select` `min(x)` ... `max()`, `sum()`, etc"
   ]
  },
  {
   "cell_type": "markdown",
   "metadata": {
    "slideshow": {
     "slide_type": "fragment"
    }
   },
   "source": [
    "`group by x`"
   ]
  },
  {
   "cell_type": "markdown",
   "metadata": {
    "slideshow": {
     "slide_type": "slide"
    }
   },
   "source": [
    "**Task**<br>\n",
    "- Which countries have the highest amount of active airlines?\n",
    "- Which countries have the highest amount of inactive airlines?\n",
    "- What about airports by timezones?"
   ]
  },
  {
   "cell_type": "code",
   "execution_count": 53,
   "metadata": {
    "slideshow": {
     "slide_type": "skip"
    }
   },
   "outputs": [
    {
     "ename": "OperationalError",
     "evalue": "no such table: airlines.active",
     "output_type": "error",
     "traceback": [
      "\u001b[1;31m---------------------------------------------------------------------------\u001b[0m",
      "\u001b[1;31mOperationalError\u001b[0m                          Traceback (most recent call last)",
      "\u001b[1;32m<ipython-input-53-ad812642d3bc>\u001b[0m in \u001b[0;36m<module>\u001b[1;34m\u001b[0m\n\u001b[0;32m      7\u001b[0m \u001b[0mORDER\u001b[0m \u001b[0mBY\u001b[0m \u001b[0mcount\u001b[0m\u001b[1;33m(\u001b[0m\u001b[0mactive\u001b[0m\u001b[1;33m)\u001b[0m \u001b[0mASC\u001b[0m\u001b[1;33m\u001b[0m\u001b[1;33m\u001b[0m\u001b[0m\n\u001b[0;32m      8\u001b[0m \u001b[1;33m\u001b[0m\u001b[0m\n\u001b[1;32m----> 9\u001b[1;33m \"\"\")\n\u001b[0m\u001b[0;32m     10\u001b[0m \u001b[0mprint\u001b[0m\u001b[1;33m(\u001b[0m\u001b[1;33m*\u001b[0m\u001b[0mcursor\u001b[0m\u001b[1;33m.\u001b[0m\u001b[0mfetchall\u001b[0m\u001b[1;33m(\u001b[0m\u001b[1;33m)\u001b[0m\u001b[1;33m,\u001b[0m \u001b[0msep\u001b[0m\u001b[1;33m=\u001b[0m\u001b[1;34m'\\n'\u001b[0m\u001b[1;33m)\u001b[0m\u001b[1;33m\u001b[0m\u001b[1;33m\u001b[0m\u001b[0m\n",
      "\u001b[1;31mOperationalError\u001b[0m: no such table: airlines.active"
     ]
    }
   ],
   "source": [
    "# Which countries have the highest amount of active airports?\n",
    "cursor.execute(\"\"\"\n",
    "SELECT airports.country,count(active)\n",
    "FROM airports, airlines.active\n",
    "WHERE active ='N'\n",
    "GROUP BY airports.country\n",
    "ORDER BY count(active) ASC\n",
    "\n",
    "\"\"\")\n",
    "print(*cursor.fetchall(), sep='\\n')"
   ]
  },
  {
   "cell_type": "code",
   "execution_count": 52,
   "metadata": {
    "slideshow": {
     "slide_type": "skip"
    }
   },
   "outputs": [
    {
     "name": "stdout",
     "output_type": "stream",
     "text": [
      "(' Boonville Stage Line', 1)\n",
      "('ACOM', 1)\n",
      "('ACTIVE AERO', 1)\n",
      "('AEROCENTER', 1)\n",
      "('AEROCESAR', 1)\n",
      "('AEROPERLAS', 1)\n",
      "('AEROPUMA', 1)\n",
      "('AEROSOL', 1)\n",
      "('AEROSUN', 1)\n",
      "('AEROVARADERO', 1)\n",
      "('AEROWEE', 1)\n",
      "('AIR CLASS', 1)\n",
      "('AIR FREIGHTER', 1)\n",
      "('AIR PRINT', 1)\n",
      "('AIR-MAUR', 1)\n",
      "('AIREX', 1)\n",
      "('AIRFLIGHT', 1)\n",
      "('AIRMAN', 1)\n",
      "('AIRNAT', 1)\n",
      "('AIRPAC', 1)\n",
      "('AIRPORT HELICOPTER', 1)\n",
      "('AIRWAVE', 1)\n",
      "('ALAMO', 1)\n",
      "('ALASKA PACIFIC', 1)\n",
      "('ALCON', 1)\n",
      "('ALDAWLYH AIR', 1)\n",
      "('ALL STAR', 1)\n",
      "('ALNACIONAL', 1)\n",
      "('ANTARES', 1)\n",
      "('APPALACHIAN', 1)\n",
      "('AQUILINE', 1)\n",
      "('ARIZAIR', 1)\n",
      "('ARMSTRONG', 1)\n",
      "('ASA PESADA', 1)\n",
      "('ASTORIA', 1)\n",
      "('ASUR', 1)\n",
      "('ATCO', 1)\n",
      "('ATLANTIC NICARAGUA', 1)\n",
      "('ATLANTIS CANADA', 1)\n",
      "('AUDI AIR', 1)\n",
      "('AURORA AIR', 1)\n",
      "('AUSA', 1)\n",
      "('AVEMEX', 1)\n",
      "('AVINOR', 1)\n",
      "('AVIOQUINTANA', 1)\n",
      "('AZIMUT', 1)\n",
      "('Air S', 1)\n",
      "('Belize', 1)\n",
      "('Bermuda', 1)\n",
      "('COMPANY AS', 1)\n",
      "('Cayman Islands', 1)\n",
      "('Congo (Brazzaville)', 1)\n",
      "('Cook Islands', 1)\n",
      "(\"Cote d'Ivoire\", 1)\n",
      "('Faroe Islands', 1)\n",
      "('Hong Kong', 1)\n",
      "('Jamaica', 1)\n",
      "('Kiribati', 1)\n",
      "('Kuwait', 1)\n",
      "('LAP', 1)\n",
      "('Macao', 1)\n",
      "('Mauritius', 1)\n",
      "('Monaco', 1)\n",
      "('Montenegro', 1)\n",
      "('Montserrat', 1)\n",
      "('Nauru', 1)\n",
      "('ODINN', 1)\n",
      "('Paraguay', 1)\n",
      "('RENTAXEL', 1)\n",
      "('Russia]]', 1)\n",
      "('Russian Federation', 1)\n",
      "('SCHEFF', 1)\n",
      "('SWISSBIRD', 1)\n",
      "('Saint Kitts and Nevis', 1)\n",
      "('Saint Vincent and the Grenadines', 1)\n",
      "('Taiwan', 1)\n",
      "('Trinidad and Tobago', 1)\n",
      "('UNIFORM OSCAR', 1)\n",
      "('UNited Kingdom', 1)\n",
      "('VELES', 1)\n",
      "('Vietnam', 1)\n",
      "('WATCHDOG', 1)\n",
      "('Yemen', 1)\n",
      "('\\\\N', 1)\n",
      "('Albania', 2)\n",
      "('Bosnia and Herzegovina', 2)\n",
      "('Burundi', 2)\n",
      "('Cape Verde', 2)\n",
      "('Comoros', 2)\n",
      "('Hong Kong SAR of China', 2)\n",
      "('Lao Peoples Democratic Republic', 2)\n",
      "('Madagascar', 2)\n",
      "('Palau', 2)\n",
      "('Qatar', 2)\n",
      "('Saint Lucia', 2)\n",
      "('Solomon Islands', 2)\n",
      "('Tonga', 2)\n",
      "('Turkmenistan', 2)\n",
      "('Antigua and Barbuda', 3)\n",
      "('Azerbaijan', 3)\n",
      "('Cuba', 3)\n",
      "('Fiji', 3)\n",
      "('Liberia', 3)\n",
      "('Malawi', 3)\n",
      "('Maldives', 3)\n",
      "('Morocco', 3)\n",
      "('Niger', 3)\n",
      "('Papua New Guinea', 3)\n",
      "('Republic of Korea', 3)\n",
      "('Saudi Arabia', 3)\n",
      "('Singapore', 3)\n",
      "('Togo', 3)\n",
      "('Afghanistan', 4)\n",
      "('Algeria', 4)\n",
      "('Aruba', 4)\n",
      "('Cameroon', 4)\n",
      "('Ethiopia', 4)\n",
      "('Guyana', 4)\n",
      "('Macedonia', 4)\n",
      "('Malta', 4)\n",
      "('Netherlands Antilles', 4)\n",
      "('Nicaragua', 4)\n",
      "('Oman', 4)\n",
      "('Republic of the Congo', 4)\n",
      "('Sri Lanka', 4)\n",
      "('Syrian Arab Republic', 4)\n",
      "('Tunisia', 4)\n",
      "('Turks and Caicos Islands', 4)\n",
      "('Zimbabwe', 4)\n",
      "('Benin', 5)\n",
      "('Central African Republic', 5)\n",
      "('Cyprus', 5)\n",
      "('El Salvador', 5)\n",
      "('Estonia', 5)\n",
      "('Guatemala', 5)\n",
      "('Honduras', 5)\n",
      "('Jordan', 5)\n",
      "('Mongolia', 5)\n",
      "('Mozambique', 5)\n",
      "('Nepal', 5)\n",
      "('Netherland', 5)\n",
      "('Panama', 5)\n",
      "('Rwanda', 5)\n",
      "('S', 5)\n",
      "('Slovenia', 5)\n",
      "('Somali Republic', 5)\n",
      "('Suriname', 5)\n",
      "('Tajikistan', 5)\n",
      "('Bahamas', 6)\n",
      "('Bolivia', 6)\n",
      "('Burkina Faso', 6)\n",
      "('Costa Rica', 6)\n",
      "('Djibouti', 6)\n",
      "('Gambia', 6)\n",
      "('Sao Tome and Principe', 6)\n",
      "('Swaziland', 6)\n",
      "('Tanzania', 6)\n",
      "('Belarus', 7)\n",
      "('Finland', 7)\n",
      "('Malaysia', 7)\n",
      "('Bahrain', 8)\n",
      "('Barbados', 8)\n",
      "('Chad', 8)\n",
      "('Croatia', 8)\n",
      "('Guinea-Bissau', 8)\n",
      "('Democratic Republic of Congo', 9)\n",
      "('India', 9)\n",
      "('Latvia', 9)\n",
      "('Mali', 9)\n",
      "('Romania', 9)\n",
      "('Uruguay', 9)\n",
      "('Uzbekistan', 9)\n",
      "('Bangladesh', 10)\n",
      "('Equatorial Guinea', 10)\n",
      "('Gabon', 10)\n",
      "('Namibia', 10)\n",
      "('Serbia', 10)\n",
      "('Guinea', 11)\n",
      "('Iceland', 11)\n",
      "('Luxembourg', 11)\n",
      "('Cambodia', 12)\n",
      "('Georgia', 12)\n",
      "('Poland', 12)\n",
      "('Senegal', 12)\n",
      "(None, 13)\n",
      "('Lebanon', 13)\n",
      "('Lithuania', 13)\n",
      "('Philippines', 13)\n",
      "('Argentina', 14)\n",
      "('Haiti', 14)\n",
      "('Slovakia', 14)\n",
      "('Armenia', 15)\n",
      "('Hungary', 15)\n",
      "('Ivory Coast', 15)\n",
      "('Peru', 15)\n",
      "('Israel', 16)\n",
      "('Ghana', 17)\n",
      "('Moldova', 17)\n",
      "('Democratic Republic of the Congo', 19)\n",
      "('Ecuador', 19)\n"
     ]
    }
   ],
   "source": [
    "# Which countries have the highest amount of inactive airports?\n",
    "cursor.execute(\"\"\"\n",
    "SELECT country,count(active)\n",
    "FROM airlines\n",
    "WHERE active='N'\n",
    "JOIN \n",
    "GROUP BY country\n",
    "ORDER BY count(active) ASC\n",
    "LIMIT 200\n",
    "\"\"\")\n",
    "print(*cursor.fetchall(), sep='\\n')"
   ]
  },
  {
   "cell_type": "code",
   "execution_count": null,
   "metadata": {
    "slideshow": {
     "slide_type": "skip"
    }
   },
   "outputs": [],
   "source": [
    "# What about airports by timezones?\n",
    "cursor.execute(\"\"\"\n",
    "-- your code here;\"\"\")\n",
    "print(*cursor.fetchall(), sep='\\n')"
   ]
  },
  {
   "cell_type": "code",
   "execution_count": null,
   "metadata": {},
   "outputs": [],
   "source": [
    "# It's always a good idea to close our connections when we're done\n",
    "cursor.close()\n",
    "con.close()"
   ]
  },
  {
   "cell_type": "markdown",
   "metadata": {
    "slideshow": {
     "slide_type": "slide"
    }
   },
   "source": [
    "## Goal 5: Transfering from sqlite to pandas"
   ]
  },
  {
   "cell_type": "code",
   "execution_count": 41,
   "metadata": {},
   "outputs": [],
   "source": [
    "import pandas as pd"
   ]
  },
  {
   "cell_type": "code",
   "execution_count": 43,
   "metadata": {
    "slideshow": {
     "slide_type": "fragment"
    }
   },
   "outputs": [
    {
     "data": {
      "text/html": [
       "<div>\n",
       "<style scoped>\n",
       "    .dataframe tbody tr th:only-of-type {\n",
       "        vertical-align: middle;\n",
       "    }\n",
       "\n",
       "    .dataframe tbody tr th {\n",
       "        vertical-align: top;\n",
       "    }\n",
       "\n",
       "    .dataframe thead th {\n",
       "        text-align: right;\n",
       "    }\n",
       "</style>\n",
       "<table border=\"1\" class=\"dataframe\">\n",
       "  <thead>\n",
       "    <tr style=\"text-align: right;\">\n",
       "      <th></th>\n",
       "      <th>index</th>\n",
       "      <th>id</th>\n",
       "      <th>name</th>\n",
       "      <th>city</th>\n",
       "      <th>country</th>\n",
       "      <th>code</th>\n",
       "      <th>icao</th>\n",
       "      <th>latitude</th>\n",
       "      <th>longitude</th>\n",
       "      <th>altitude</th>\n",
       "      <th>offset</th>\n",
       "      <th>dst</th>\n",
       "      <th>timezone</th>\n",
       "    </tr>\n",
       "  </thead>\n",
       "  <tbody>\n",
       "    <tr>\n",
       "      <th>0</th>\n",
       "      <td>0</td>\n",
       "      <td>1</td>\n",
       "      <td>Goroka</td>\n",
       "      <td>Goroka</td>\n",
       "      <td>Papua New Guinea</td>\n",
       "      <td>GKA</td>\n",
       "      <td>AYGA</td>\n",
       "      <td>-6.081689</td>\n",
       "      <td>145.391881</td>\n",
       "      <td>5282</td>\n",
       "      <td>10</td>\n",
       "      <td>U</td>\n",
       "      <td>Pacific/Port_Moresby</td>\n",
       "    </tr>\n",
       "    <tr>\n",
       "      <th>1</th>\n",
       "      <td>1</td>\n",
       "      <td>2</td>\n",
       "      <td>Madang</td>\n",
       "      <td>Madang</td>\n",
       "      <td>Papua New Guinea</td>\n",
       "      <td>MAG</td>\n",
       "      <td>AYMD</td>\n",
       "      <td>-5.207083</td>\n",
       "      <td>145.7887</td>\n",
       "      <td>20</td>\n",
       "      <td>10</td>\n",
       "      <td>U</td>\n",
       "      <td>Pacific/Port_Moresby</td>\n",
       "    </tr>\n",
       "    <tr>\n",
       "      <th>2</th>\n",
       "      <td>2</td>\n",
       "      <td>3</td>\n",
       "      <td>Mount Hagen</td>\n",
       "      <td>Mount Hagen</td>\n",
       "      <td>Papua New Guinea</td>\n",
       "      <td>HGU</td>\n",
       "      <td>AYMH</td>\n",
       "      <td>-5.826789</td>\n",
       "      <td>144.295861</td>\n",
       "      <td>5388</td>\n",
       "      <td>10</td>\n",
       "      <td>U</td>\n",
       "      <td>Pacific/Port_Moresby</td>\n",
       "    </tr>\n",
       "    <tr>\n",
       "      <th>3</th>\n",
       "      <td>3</td>\n",
       "      <td>4</td>\n",
       "      <td>Nadzab</td>\n",
       "      <td>Nadzab</td>\n",
       "      <td>Papua New Guinea</td>\n",
       "      <td>LAE</td>\n",
       "      <td>AYNZ</td>\n",
       "      <td>-6.569828</td>\n",
       "      <td>146.726242</td>\n",
       "      <td>239</td>\n",
       "      <td>10</td>\n",
       "      <td>U</td>\n",
       "      <td>Pacific/Port_Moresby</td>\n",
       "    </tr>\n",
       "    <tr>\n",
       "      <th>4</th>\n",
       "      <td>4</td>\n",
       "      <td>5</td>\n",
       "      <td>Port Moresby Jacksons Intl</td>\n",
       "      <td>Port Moresby</td>\n",
       "      <td>Papua New Guinea</td>\n",
       "      <td>POM</td>\n",
       "      <td>AYPY</td>\n",
       "      <td>-9.443383</td>\n",
       "      <td>147.22005</td>\n",
       "      <td>146</td>\n",
       "      <td>10</td>\n",
       "      <td>U</td>\n",
       "      <td>Pacific/Port_Moresby</td>\n",
       "    </tr>\n",
       "  </tbody>\n",
       "</table>\n",
       "</div>"
      ],
      "text/plain": [
       "   index id                        name          city           country code  \\\n",
       "0      0  1                      Goroka        Goroka  Papua New Guinea  GKA   \n",
       "1      1  2                      Madang        Madang  Papua New Guinea  MAG   \n",
       "2      2  3                 Mount Hagen   Mount Hagen  Papua New Guinea  HGU   \n",
       "3      3  4                      Nadzab        Nadzab  Papua New Guinea  LAE   \n",
       "4      4  5  Port Moresby Jacksons Intl  Port Moresby  Papua New Guinea  POM   \n",
       "\n",
       "   icao   latitude   longitude altitude offset dst              timezone  \n",
       "0  AYGA  -6.081689  145.391881     5282     10   U  Pacific/Port_Moresby  \n",
       "1  AYMD  -5.207083    145.7887       20     10   U  Pacific/Port_Moresby  \n",
       "2  AYMH  -5.826789  144.295861     5388     10   U  Pacific/Port_Moresby  \n",
       "3  AYNZ  -6.569828  146.726242      239     10   U  Pacific/Port_Moresby  \n",
       "4  AYPY  -9.443383   147.22005      146     10   U  Pacific/Port_Moresby  "
      ]
     },
     "execution_count": 43,
     "metadata": {},
     "output_type": "execute_result"
    }
   ],
   "source": [
    "pd_con = sqlite3.connect(\"data/flights.db\")\n",
    "df = pd.read_sql_query(\"select * from airports limit 5;\", pd_con)\n",
    "df"
   ]
  },
  {
   "cell_type": "markdown",
   "metadata": {
    "slideshow": {
     "slide_type": "slide"
    }
   },
   "source": [
    "**Task**: \n",
    "Convert one of the earlier queries in the lesson to a pandas data frame"
   ]
  },
  {
   "cell_type": "code",
   "execution_count": null,
   "metadata": {},
   "outputs": [],
   "source": [
    "# Which countries have the highest amount of active airports?\n",
    "sql = '''\n",
    "-- YOUR CODE HERE\n",
    "'''\n",
    "pd.read_sql_query(sql, conn)"
   ]
  },
  {
   "cell_type": "code",
   "execution_count": null,
   "metadata": {},
   "outputs": [],
   "source": [
    "pd_con.close()"
   ]
  },
  {
   "cell_type": "markdown",
   "metadata": {
    "slideshow": {
     "slide_type": "slide"
    }
   },
   "source": [
    "## Bonus: SQL-like querying in Pandas\n",
    "\n",
    "`.query()`\n",
    "\n",
    "[query documentation](https://pandas.pydata.org/pandas-docs/stable/reference/api/pandas.DataFrame.query.html)"
   ]
  },
  {
   "cell_type": "code",
   "execution_count": null,
   "metadata": {
    "slideshow": {
     "slide_type": "slide"
    }
   },
   "outputs": [],
   "source": [
    "# Get data for an example\n",
    "import pandas as pd\n",
    "shelter_data=pd.read_csv('https://data.austintexas.gov/api/views/9t4d-g238/rows.csv?accessType=DOWNLOAD')"
   ]
  },
  {
   "cell_type": "code",
   "execution_count": null,
   "metadata": {
    "slideshow": {
     "slide_type": "slide"
    }
   },
   "outputs": [],
   "source": [
    "max_data = shelter_data.query('Name == \"Max\"')\n",
    "max_data.head()\n"
   ]
  },
  {
   "cell_type": "code",
   "execution_count": null,
   "metadata": {},
   "outputs": [],
   "source": [
    "#vs\n",
    "shelter_data[shelter_data['Name']==\"Max\"].head()"
   ]
  },
  {
   "cell_type": "code",
   "execution_count": null,
   "metadata": {
    "slideshow": {
     "slide_type": "slide"
    }
   },
   "outputs": [],
   "source": [
    "shelter_data.query('`Animal Type` == \"Dog\"').head()"
   ]
  },
  {
   "cell_type": "code",
   "execution_count": null,
   "metadata": {},
   "outputs": [],
   "source": []
  }
 ],
 "metadata": {
  "kernelspec": {
   "display_name": "Python 3",
   "language": "python",
   "name": "python3"
  },
  "language_info": {
   "codemirror_mode": {
    "name": "ipython",
    "version": 3
   },
   "file_extension": ".py",
   "mimetype": "text/x-python",
   "name": "python",
   "nbconvert_exporter": "python",
   "pygments_lexer": "ipython3",
   "version": "3.7.6"
  }
 },
 "nbformat": 4,
 "nbformat_minor": 4
}
