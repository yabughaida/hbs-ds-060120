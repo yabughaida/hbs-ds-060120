{
 "cells": [
  {
   "cell_type": "markdown",
   "metadata": {},
   "source": [
    "# SQL Lab\n",
    "\n",
    "Congratulations! We've been hired as analysts at Classic Model Car Company, and you've been handed keys to the Data Warehouse.  They want you to hit the ground running with analysis! We have lots of questions to answer.  First, let's connect to the database.\n",
    "\n",
    "1. Connect via MySQL Credentials\n",
    "  - hostname: `hbs-ds-060120.c1doesqrid0e.us-east-1.rds.amazonaws.com`\n",
    "  - username: `hbs-student`\n",
    "  - password: (distributed via slack)\n",
    "  - port: 3306 (default)\n",
    "  - database: `classicmodels`"
   ]
  },
  {
   "cell_type": "markdown",
   "metadata": {},
   "source": [
    "2. Take a moment to study the schema, noting the keys. Browse the data in each relation if you wish. Answer the following queries. I've given you the expected results below each query.\n",
    "\n",
    "3. Answer the following questions! Do them in your MySQL client first, most likely, then bring them into Pandas here in this notebook."
   ]
  },
  {
   "cell_type": "markdown",
   "metadata": {},
   "source": [
    "1. List all customer names and their addresses who don't have a specified sales rep. Order by customer name."
   ]
  },
  {
   "cell_type": "code",
   "execution_count": null,
   "metadata": {},
   "outputs": [],
   "source": [
    "!pip install MySQL-python"
   ]
  },
  {
   "cell_type": "code",
   "execution_count": 2,
   "metadata": {},
   "outputs": [],
   "source": [
    "import pandas as pd\n",
    "import mysql.connector\n",
    "\n",
    "con = mysql.connector.connect(user='hbs-student', password='super-secure-password?',\n",
    "                              host='hbs-ds-060120.c1doesqrid0e.us-east-1.rds.amazonaws.com',\n",
    "                              database='classicmodels')\n",
    "con.close()"
   ]
  },
  {
   "cell_type": "code",
   "execution_count": null,
   "metadata": {},
   "outputs": [],
   "source": [
    "\n",
    "\n",
    "pd.read_sql_query(\"\"\"\n",
    "-- List all customer names and their addresses who don't have a\n",
    "-- specified sales rep. Order by customer name.\n",
    "\n",
    "SELECT \n",
    "contactLastName,\n",
    "contactFirstName,\n",
    "addressline1,\n",
    "addressline2,\n",
    "city,state,\n",
    "postalCode,\n",
    "country\n",
    "FROM classicmodels.customers\n",
    "WHERE salesRepEmployeeNumber IS NULL\n",
    "ORDER BY contactLastName ASC\n",
    " \"\"\")"
   ]
  },
  {
   "cell_type": "markdown",
   "metadata": {},
   "source": [
    "2. List the names of all customers that have a creditLimit between 100,000 and 200,000 inclusively. Order by customer name."
   ]
  },
  {
   "cell_type": "code",
   "execution_count": null,
   "metadata": {},
   "outputs": [],
   "source": [
    "\n",
    "\n",
    "pd.read_sql_query(\"\"\"\n",
    "SELECT \n",
    "contactLastName,\n",
    "contactFirstName,\n",
    "creditLimit\n",
    "FROM classicmodels.customers\n",
    "WHERE creditLimit>=100000 AND creditLimit<=200000\n",
    "ORDER BY contactLastName ASC;\n",
    " \"\"\")"
   ]
  },
  {
   "cell_type": "markdown",
   "metadata": {},
   "source": [
    "\n",
    "3. List all employees who have the initials of M.P. or P.M., by name. Order by last name."
   ]
  },
  {
   "cell_type": "code",
   "execution_count": null,
   "metadata": {},
   "outputs": [],
   "source": [
    "pd.read_sql_query(\"\"\"\n",
    "SELECT \n",
    "lastName,\n",
    "firstName,\n",
    "SUBSTRING(firstName,1,1) AS first_initial,\n",
    "SUBSTRING(lastName,1,1) AS last_initial\n",
    "FROM classicmodels.employees\n",
    "HAVING first_initial='M' AND last_initial='P' OR first_initial='P' AND last_initial='M'\n",
    "ORDER BY lastName ASC;\n",
    " \"\"\")"
   ]
  },
  {
   "cell_type": "markdown",
   "metadata": {},
   "source": [
    "4. List all the products' productNames purchased by Mini Wheels Co. Order the list by product line."
   ]
  },
  {
   "cell_type": "code",
   "execution_count": null,
   "metadata": {},
   "outputs": [],
   "source": [
    "pd.read_sql_query(\"\"\"\n",
    "SELECT \n",
    "productName,\n",
    "customerName,\n",
    "productLine\n",
    "FROM products\n",
    "JOIN orderdetails USING (productCode)\n",
    "JOIN orders USING (orderNumber)\n",
    "JOIN customers USING (customerNumber)\n",
    "WHERE customerName='Mini Wheels Co.'\n",
    "ORDER BY productLine\n",
    "\"\"\")"
   ]
  },
  {
   "cell_type": "markdown",
   "metadata": {},
   "source": [
    "5. List the customers by customerName whose contact person shares either a first name or last name with any of the company's employees Order by customerName"
   ]
  },
  {
   "cell_type": "code",
   "execution_count": null,
   "metadata": {},
   "outputs": [],
   "source": [
    "pd.read_sql_query(\"\"\"\n",
    "SELECT\n",
    "customerName,\n",
    "contactFirstName,\n",
    "contactLastName,\n",
    "employees.firstName,\n",
    "employees.lastName\n",
    "FROM customers\n",
    "JOIN employees \n",
    "ON customers.salesRepEmployeeNumber = employees.employeeNumber\n",
    "WHERE contactFirstName=employees.firstName OR contactLastName=employees.lastName\n",
    "ORDER BY customerName\n",
    "\n",
    "\"\"\")"
   ]
  },
  {
   "cell_type": "markdown",
   "metadata": {},
   "source": [
    "7. List the customers (by name) that are based in the country which is first in the lexicographic order of customer countries. Order by customerName"
   ]
  },
  {
   "cell_type": "code",
   "execution_count": null,
   "metadata": {},
   "outputs": [],
   "source": [
    "pd.read_sql_query(\"\"\"\n",
    "SELECT \n",
    "customerName,country\n",
    "FROM customers\n",
    "WHERE country=(SELECT country FROM customers\n",
    "ORDER BY country ASC\n",
    "LIMIT 1)\n",
    "ORDER BY customerName\n",
    "\"\"\")"
   ]
  },
  {
   "cell_type": "markdown",
   "metadata": {},
   "source": [
    "8. Identify the product(s) by productCode and productName that the company has the least stock of. Order by product code."
   ]
  },
  {
   "cell_type": "code",
   "execution_count": null,
   "metadata": {},
   "outputs": [],
   "source": [
    "pd.read_sql_query(\"\"\"\n",
    "SELECT \n",
    "productName,\n",
    "productCode,\n",
    "quantityInStock\n",
    "FROM products\n",
    "WHERE quantityInStock<1000\n",
    "ORDER BY productCode\n",
    "\"\"\")"
   ]
  },
  {
   "cell_type": "markdown",
   "metadata": {},
   "source": [
    "9. Identify the offices (by city) that have the least employees and the most employees (answer should include city, numEmps)"
   ]
  },
  {
   "cell_type": "code",
   "execution_count": null,
   "metadata": {},
   "outputs": [],
   "source": [
    "pd.read_sql_query(\"\"\"\n",
    "SELECT \n",
    "city,\n",
    "COUNT(employeeNumber) as numEmps\n",
    "FROM offices\n",
    "JOIN employees USING (officeCode)\n",
    "GROUP BY city\n",
    "ORDER BY numEmps\n",
    "\"\"\")"
   ]
  },
  {
   "cell_type": "markdown",
   "metadata": {},
   "source": [
    "10. For all Sales Reps list their names (first and last) and the name of the office they work out of and the number of clients they represent. Order by reverse order of numClients"
   ]
  },
  {
   "cell_type": "code",
   "execution_count": null,
   "metadata": {},
   "outputs": [],
   "source": [
    "pd.read_sql_query(\"\"\"\n",
    "SELECT \n",
    "firstName,\n",
    "lastName,\n",
    "offices.city,\n",
    "COUNT(customerNumber) as numClients\n",
    "FROM offices\n",
    "JOIN employees USING (officeCode)\n",
    "JOIN customers\n",
    "ON salesRepEmployeeNumber=employeeNumber\n",
    "GROUP BY salesRepEmployeeNumber\n",
    "ORDER BY numClients ASC\n",
    "\"\"\")"
   ]
  },
  {
   "cell_type": "markdown",
   "metadata": {},
   "source": [
    "11. List the customer(s) and their total payments (answer should include customerNumber, customerName, totalPayment where totalPayment is the total amount of dollars the customer has paid). Order by totalPayment."
   ]
  },
  {
   "cell_type": "code",
   "execution_count": null,
   "metadata": {},
   "outputs": [],
   "source": [
    "pd.read_sql_query(\"\"\"\n",
    "SELECT \n",
    "customerNumber,\n",
    "customerName,\n",
    "SUM(amount) as totalPayment\n",
    "FROM customers\n",
    "JOIN payments USING (customerNumber)\n",
    "GROUP BY customerNumber\n",
    "ORDER BY totalPayment DESC\n",
    "\"\"\")"
   ]
  },
  {
   "cell_type": "markdown",
   "metadata": {},
   "source": [
    "12. List the product number, product name, and customer name such that the customer has never ordered that product. Order by customerName, productCode."
   ]
  },
  {
   "cell_type": "code",
   "execution_count": null,
   "metadata": {},
   "outputs": [],
   "source": [
    "pd.read_sql_query(\"\"\"\n",
    "SELECT\n",
    "productCode,\n",
    "productName,\n",
    "customerName\n",
    "FROM products, customers\n",
    "WHERE (productCode, customerNumber) NOT IN\n",
    "(SELECT productCode, customerNumber\n",
    "FROM orders\n",
    "JOIN orderdetails USING (orderNumber))\n",
    "ORDER BY customerName, productCode\n",
    "\"\"\")"
   ]
  },
  {
   "cell_type": "markdown",
   "metadata": {},
   "source": [
    "13. List the profit per product that the company would make if it were able to sell all of that product at MSRP (answer should include productName, profit). Order by profit."
   ]
  },
  {
   "cell_type": "code",
   "execution_count": null,
   "metadata": {},
   "outputs": [],
   "source": [
    "pd.read_sql_query(\"\"\"\n",
    "SELECT \n",
    "productName,\n",
    "(MSRP - buyPrice) * quantityinStock as profit\n",
    "FROM products\n",
    "ORDER BY profit DESC\n",
    "\"\"\")"
   ]
  },
  {
   "cell_type": "markdown",
   "metadata": {},
   "source": [
    "14. List the average order size for each customer (answer should include customerName, avgQuantity) Order by customer name."
   ]
  },
  {
   "cell_type": "code",
   "execution_count": null,
   "metadata": {},
   "outputs": [],
   "source": [
    "pd.read_sql_query(\"\"\"\n",
    "SELECT \n",
    "customerName, \n",
    "AVG(orderSize) AS avgQuantity\n",
    "FROM(\n",
    "SELECT customerName, \n",
    "SUM(quantityOrdered) AS orderSize\n",
    "FROM customers NATURAL JOIN orders NATURAL JOIN orderdetails\n",
    "GROUP BY orders.ordernumber\n",
    ") AS totalOrder\n",
    "GROUP BY customerName\n",
    "ORDER BY customerName\n",
    "\"\"\")"
   ]
  }
 ],
 "metadata": {
  "kernelspec": {
   "display_name": "Python 3",
   "language": "python",
   "name": "python3"
  },
  "language_info": {
   "codemirror_mode": {
    "name": "ipython",
    "version": 3
   },
   "file_extension": ".py",
   "mimetype": "text/x-python",
   "name": "python",
   "nbconvert_exporter": "python",
   "pygments_lexer": "ipython3",
   "version": "3.7.6"
  }
 },
 "nbformat": 4,
 "nbformat_minor": 2
}
